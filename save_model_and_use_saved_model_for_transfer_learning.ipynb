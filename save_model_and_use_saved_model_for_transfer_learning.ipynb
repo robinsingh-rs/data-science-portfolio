{
  "nbformat": 4,
  "nbformat_minor": 0,
  "metadata": {
    "colab": {
      "provenance": []
    },
    "kernelspec": {
      "name": "python3",
      "display_name": "Python 3"
    },
    "language_info": {
      "name": "python"
    }
  },
  "cells": [
    {
      "cell_type": "code",
      "execution_count": 1,
      "metadata": {
        "id": "m2ZbL0K659bg"
      },
      "outputs": [],
      "source": [
        "import tensorflow as tf\n",
        "import numpy as np\n",
        "from tensorflow.keras.layers import LeakyReLU\n",
        "\n",
        "# for getting same data\n",
        "tf.random.set_seed(42)\n",
        "np.random.seed(42)"
      ]
    },
    {
      "cell_type": "code",
      "source": [
        "(x_train, y_train), (x_test, y_test) = tf.keras.datasets.mnist.load_data()"
      ],
      "metadata": {
        "colab": {
          "base_uri": "https://localhost:8080/"
        },
        "id": "TUhKKXWR6Fvw",
        "outputId": "f4e4b7f0-8e0b-44d2-e486-1c404d1762de"
      },
      "execution_count": 2,
      "outputs": [
        {
          "output_type": "stream",
          "name": "stdout",
          "text": [
            "Downloading data from https://storage.googleapis.com/tensorflow/tf-keras-datasets/mnist.npz\n",
            "11490434/11490434 [==============================] - 0s 0us/step\n"
          ]
        }
      ]
    },
    {
      "cell_type": "code",
      "source": [
        "x_train = x_train / 255.0\n",
        "x_test = x_test / 255.0\n",
        "\n",
        "x_valid, x_train = x_train[:5000], x_train[5000:]\n",
        "y_valid, y_train = y_train[:5000], y_train[5000:]"
      ],
      "metadata": {
        "id": "PobUrib-6JYY"
      },
      "execution_count": 3,
      "outputs": []
    },
    {
      "cell_type": "code",
      "source": [
        "Layers = [\n",
        "    tf.keras.layers.Flatten(input_shape=[28,28]),\n",
        "    tf.keras.layers.Dense(300, kernel_initializer=\"he_normal\"),\n",
        "    tf.keras.layers.LeakyReLU(),\n",
        "    tf.keras.layers.Dense(100, kernel_initializer=\"he_normal\", activation=LeakyReLU()),\n",
        "    # tf.keras.layers.LeakyRelu(),\n",
        "    tf.keras.layers.Dense(10, activation='softmax')\n",
        "]\n",
        "\n",
        "model = tf.keras.models.Sequential(Layers)"
      ],
      "metadata": {
        "id": "h6Gf79lm6K9C"
      },
      "execution_count": 4,
      "outputs": []
    },
    {
      "cell_type": "code",
      "source": [
        "model.compile(loss='sparse_categorical_crossentropy',\n",
        "              optimizer=tf.keras.optimizers.SGD(learning_rate=1e-3),\n",
        "              metrics=['accuracy'])"
      ],
      "metadata": {
        "id": "GSZuBPF56NAJ"
      },
      "execution_count": 5,
      "outputs": []
    },
    {
      "cell_type": "code",
      "source": [
        "model.summary()"
      ],
      "metadata": {
        "colab": {
          "base_uri": "https://localhost:8080/"
        },
        "id": "wYnMPfyz8rCy",
        "outputId": "d7fbe266-e916-43af-e41e-fb94590b5bc2"
      },
      "execution_count": 6,
      "outputs": [
        {
          "output_type": "stream",
          "name": "stdout",
          "text": [
            "Model: \"sequential\"\n",
            "_________________________________________________________________\n",
            " Layer (type)                Output Shape              Param #   \n",
            "=================================================================\n",
            " flatten (Flatten)           (None, 784)               0         \n",
            "                                                                 \n",
            " dense (Dense)               (None, 300)               235500    \n",
            "                                                                 \n",
            " leaky_re_lu (LeakyReLU)     (None, 300)               0         \n",
            "                                                                 \n",
            " dense_1 (Dense)             (None, 100)               30100     \n",
            "                                                                 \n",
            " dense_2 (Dense)             (None, 10)                1010      \n",
            "                                                                 \n",
            "=================================================================\n",
            "Total params: 266610 (1.02 MB)\n",
            "Trainable params: 266610 (1.02 MB)\n",
            "Non-trainable params: 0 (0.00 Byte)\n",
            "_________________________________________________________________\n"
          ]
        }
      ]
    },
    {
      "cell_type": "code",
      "source": [
        "%%time\n",
        "history = model.fit(x_train, y_train, epochs=15,\n",
        "                    validation_data=(x_valid, y_valid), verbose=2)"
      ],
      "metadata": {
        "colab": {
          "base_uri": "https://localhost:8080/"
        },
        "id": "UfgOItDA8szg",
        "outputId": "9ea117ee-4dc5-4f87-dfc4-552128acc9cb"
      },
      "execution_count": 7,
      "outputs": [
        {
          "output_type": "stream",
          "name": "stdout",
          "text": [
            "Epoch 1/15\n",
            "1719/1719 - 12s - loss: 1.5396 - accuracy: 0.5983 - val_loss: 0.9454 - val_accuracy: 0.7956 - 12s/epoch - 7ms/step\n",
            "Epoch 2/15\n",
            "1719/1719 - 7s - loss: 0.7503 - accuracy: 0.8262 - val_loss: 0.5924 - val_accuracy: 0.8564 - 7s/epoch - 4ms/step\n",
            "Epoch 3/15\n",
            "1719/1719 - 10s - loss: 0.5462 - accuracy: 0.8614 - val_loss: 0.4729 - val_accuracy: 0.8782 - 10s/epoch - 6ms/step\n",
            "Epoch 4/15\n",
            "1719/1719 - 8s - loss: 0.4629 - accuracy: 0.8772 - val_loss: 0.4136 - val_accuracy: 0.8902 - 8s/epoch - 5ms/step\n",
            "Epoch 5/15\n",
            "1719/1719 - 7s - loss: 0.4174 - accuracy: 0.8863 - val_loss: 0.3776 - val_accuracy: 0.9010 - 7s/epoch - 4ms/step\n",
            "Epoch 6/15\n",
            "1719/1719 - 6s - loss: 0.3880 - accuracy: 0.8925 - val_loss: 0.3537 - val_accuracy: 0.9058 - 6s/epoch - 4ms/step\n",
            "Epoch 7/15\n",
            "1719/1719 - 7s - loss: 0.3669 - accuracy: 0.8971 - val_loss: 0.3361 - val_accuracy: 0.9108 - 7s/epoch - 4ms/step\n",
            "Epoch 8/15\n",
            "1719/1719 - 6s - loss: 0.3509 - accuracy: 0.9009 - val_loss: 0.3222 - val_accuracy: 0.9150 - 6s/epoch - 3ms/step\n",
            "Epoch 9/15\n",
            "1719/1719 - 7s - loss: 0.3379 - accuracy: 0.9045 - val_loss: 0.3121 - val_accuracy: 0.9168 - 7s/epoch - 4ms/step\n",
            "Epoch 10/15\n",
            "1719/1719 - 6s - loss: 0.3273 - accuracy: 0.9072 - val_loss: 0.3025 - val_accuracy: 0.9194 - 6s/epoch - 3ms/step\n",
            "Epoch 11/15\n",
            "1719/1719 - 7s - loss: 0.3181 - accuracy: 0.9096 - val_loss: 0.2936 - val_accuracy: 0.9218 - 7s/epoch - 4ms/step\n",
            "Epoch 12/15\n",
            "1719/1719 - 6s - loss: 0.3099 - accuracy: 0.9123 - val_loss: 0.2868 - val_accuracy: 0.9242 - 6s/epoch - 4ms/step\n",
            "Epoch 13/15\n",
            "1719/1719 - 7s - loss: 0.3028 - accuracy: 0.9134 - val_loss: 0.2809 - val_accuracy: 0.9258 - 7s/epoch - 4ms/step\n",
            "Epoch 14/15\n",
            "1719/1719 - 6s - loss: 0.2963 - accuracy: 0.9159 - val_loss: 0.2758 - val_accuracy: 0.9258 - 6s/epoch - 4ms/step\n",
            "Epoch 15/15\n",
            "1719/1719 - 7s - loss: 0.2904 - accuracy: 0.9177 - val_loss: 0.2704 - val_accuracy: 0.9274 - 7s/epoch - 4ms/step\n",
            "CPU times: user 2min 8s, sys: 6.49 s, total: 2min 15s\n",
            "Wall time: 2min 22s\n"
          ]
        }
      ]
    },
    {
      "cell_type": "code",
      "source": [
        "# save model\n",
        "model.save('mnist_model.h5')"
      ],
      "metadata": {
        "colab": {
          "base_uri": "https://localhost:8080/"
        },
        "id": "ZQAmpGAh9HPi",
        "outputId": "0ac22648-834e-4e88-d6d2-ba15bfab7d81"
      },
      "execution_count": 8,
      "outputs": [
        {
          "output_type": "stream",
          "name": "stderr",
          "text": [
            "/usr/local/lib/python3.10/dist-packages/keras/src/engine/training.py:3103: UserWarning: You are saving your model as an HDF5 file via `model.save()`. This file format is considered legacy. We recommend using instead the native Keras format, e.g. `model.save('my_model.keras')`.\n",
            "  saving_api.save_model(\n"
          ]
        }
      ]
    },
    {
      "cell_type": "code",
      "source": [
        "def update_even_odd_labels(labels):\n",
        "    for idx, label in enumerate(labels):\n",
        "        labels[idx] = np.where(label % 2 == 0, 1, 0)\n",
        "    return labels"
      ],
      "metadata": {
        "id": "QgaRi3vO9u5t"
      },
      "execution_count": 9,
      "outputs": []
    },
    {
      "cell_type": "code",
      "source": [
        "y_train_bin, y_test_bin, y_valid_bin = update_even_odd_labels([y_train, y_test, y_valid])"
      ],
      "metadata": {
        "id": "CoAd7UjcxKoi"
      },
      "execution_count": 10,
      "outputs": []
    },
    {
      "cell_type": "code",
      "source": [
        "Layers = [\n",
        "    tf.keras.layers.Flatten(input_shape=[28,28]),\n",
        "    tf.keras.layers.Dense(300, kernel_initializer='he_normal'),\n",
        "    tf.keras.layers.LeakyReLU(),\n",
        "    tf.keras.layers.Dense(100, kernel_initializer='he_normal'),\n",
        "    tf.keras.layers.LeakyReLU(),\n",
        "    tf.keras.layers.Dense(2, activation='softmax')\n",
        "]\n",
        "\n",
        "\n",
        "model_1 = tf.keras.models.Sequential(Layers)"
      ],
      "metadata": {
        "id": "MCgz1zAZy3Bh"
      },
      "execution_count": 11,
      "outputs": []
    },
    {
      "cell_type": "code",
      "source": [
        "model_1.summary()"
      ],
      "metadata": {
        "colab": {
          "base_uri": "https://localhost:8080/"
        },
        "id": "bDm5mOSJzq4h",
        "outputId": "103d4db9-b4eb-4b28-9361-e96693a0137d"
      },
      "execution_count": 12,
      "outputs": [
        {
          "output_type": "stream",
          "name": "stdout",
          "text": [
            "Model: \"sequential_1\"\n",
            "_________________________________________________________________\n",
            " Layer (type)                Output Shape              Param #   \n",
            "=================================================================\n",
            " flatten_1 (Flatten)         (None, 784)               0         \n",
            "                                                                 \n",
            " dense_3 (Dense)             (None, 300)               235500    \n",
            "                                                                 \n",
            " leaky_re_lu_2 (LeakyReLU)   (None, 300)               0         \n",
            "                                                                 \n",
            " dense_4 (Dense)             (None, 100)               30100     \n",
            "                                                                 \n",
            " leaky_re_lu_3 (LeakyReLU)   (None, 100)               0         \n",
            "                                                                 \n",
            " dense_5 (Dense)             (None, 2)                 202       \n",
            "                                                                 \n",
            "=================================================================\n",
            "Total params: 265802 (1.01 MB)\n",
            "Trainable params: 265802 (1.01 MB)\n",
            "Non-trainable params: 0 (0.00 Byte)\n",
            "_________________________________________________________________\n"
          ]
        }
      ]
    },
    {
      "cell_type": "code",
      "source": [
        "model_1.compile(loss='sparse_categorical_crossentropy',\n",
        "                optimizer = tf.keras.optimizers.SGD(lr=1e-3),\n",
        "                metrics=['accuracy'])"
      ],
      "metadata": {
        "colab": {
          "base_uri": "https://localhost:8080/"
        },
        "id": "3tk5iqoy0JY3",
        "outputId": "6cce26fb-3656-456e-d508-c5e7bb856dec"
      },
      "execution_count": 13,
      "outputs": [
        {
          "output_type": "stream",
          "name": "stderr",
          "text": [
            "WARNING:absl:`lr` is deprecated in Keras optimizer, please use `learning_rate` or use the legacy optimizer, e.g.,tf.keras.optimizers.legacy.SGD.\n"
          ]
        }
      ]
    },
    {
      "cell_type": "code",
      "source": [
        "%%timeit\n",
        "\n",
        "history = model_1.fit(x_train, y_train_bin, epochs = 15,\n",
        "                      validation_data=(x_valid, y_valid_bin), verbose=2)"
      ],
      "metadata": {
        "colab": {
          "base_uri": "https://localhost:8080/"
        },
        "id": "5GQih4UF1Gt5",
        "outputId": "d276e48b-bc0d-492e-b63e-c4a5d2f5c71a"
      },
      "execution_count": 14,
      "outputs": [
        {
          "output_type": "stream",
          "name": "stdout",
          "text": [
            "Epoch 1/15\n",
            "1719/1719 - 7s - loss: 0.2559 - accuracy: 0.8985 - val_loss: 0.1582 - val_accuracy: 0.9476 - 7s/epoch - 4ms/step\n",
            "Epoch 2/15\n",
            "1719/1719 - 7s - loss: 0.1416 - accuracy: 0.9510 - val_loss: 0.1108 - val_accuracy: 0.9630 - 7s/epoch - 4ms/step\n",
            "Epoch 3/15\n",
            "1719/1719 - 6s - loss: 0.1072 - accuracy: 0.9634 - val_loss: 0.0889 - val_accuracy: 0.9710 - 6s/epoch - 3ms/step\n",
            "Epoch 4/15\n",
            "1719/1719 - 7s - loss: 0.0900 - accuracy: 0.9693 - val_loss: 0.0772 - val_accuracy: 0.9724 - 7s/epoch - 4ms/step\n",
            "Epoch 5/15\n",
            "1719/1719 - 6s - loss: 0.0774 - accuracy: 0.9739 - val_loss: 0.0715 - val_accuracy: 0.9740 - 6s/epoch - 4ms/step\n",
            "Epoch 6/15\n",
            "1719/1719 - 6s - loss: 0.0691 - accuracy: 0.9763 - val_loss: 0.0709 - val_accuracy: 0.9754 - 6s/epoch - 4ms/step\n",
            "Epoch 7/15\n",
            "1719/1719 - 7s - loss: 0.0623 - accuracy: 0.9790 - val_loss: 0.0595 - val_accuracy: 0.9776 - 7s/epoch - 4ms/step\n",
            "Epoch 8/15\n",
            "1719/1719 - 9s - loss: 0.0569 - accuracy: 0.9809 - val_loss: 0.0846 - val_accuracy: 0.9662 - 9s/epoch - 5ms/step\n",
            "Epoch 9/15\n",
            "1719/1719 - 6s - loss: 0.0524 - accuracy: 0.9827 - val_loss: 0.0540 - val_accuracy: 0.9814 - 6s/epoch - 3ms/step\n",
            "Epoch 10/15\n",
            "1719/1719 - 8s - loss: 0.0490 - accuracy: 0.9835 - val_loss: 0.0549 - val_accuracy: 0.9806 - 8s/epoch - 5ms/step\n",
            "Epoch 11/15\n",
            "1719/1719 - 7s - loss: 0.0454 - accuracy: 0.9848 - val_loss: 0.0511 - val_accuracy: 0.9832 - 7s/epoch - 4ms/step\n",
            "Epoch 12/15\n",
            "1719/1719 - 10s - loss: 0.0426 - accuracy: 0.9856 - val_loss: 0.0552 - val_accuracy: 0.9806 - 10s/epoch - 6ms/step\n",
            "Epoch 13/15\n",
            "1719/1719 - 6s - loss: 0.0400 - accuracy: 0.9867 - val_loss: 0.0669 - val_accuracy: 0.9742 - 6s/epoch - 4ms/step\n",
            "Epoch 14/15\n",
            "1719/1719 - 9s - loss: 0.0373 - accuracy: 0.9878 - val_loss: 0.0492 - val_accuracy: 0.9834 - 9s/epoch - 5ms/step\n",
            "Epoch 15/15\n",
            "1719/1719 - 6s - loss: 0.0349 - accuracy: 0.9886 - val_loss: 0.0595 - val_accuracy: 0.9782 - 6s/epoch - 4ms/step\n",
            "Epoch 1/15\n",
            "1719/1719 - 9s - loss: 0.0334 - accuracy: 0.9889 - val_loss: 0.0498 - val_accuracy: 0.9824 - 9s/epoch - 5ms/step\n",
            "Epoch 2/15\n",
            "1719/1719 - 9s - loss: 0.0313 - accuracy: 0.9901 - val_loss: 0.0798 - val_accuracy: 0.9712 - 9s/epoch - 5ms/step\n",
            "Epoch 3/15\n",
            "1719/1719 - 6s - loss: 0.0293 - accuracy: 0.9906 - val_loss: 0.0508 - val_accuracy: 0.9830 - 6s/epoch - 4ms/step\n",
            "Epoch 4/15\n",
            "1719/1719 - 9s - loss: 0.0278 - accuracy: 0.9912 - val_loss: 0.0476 - val_accuracy: 0.9840 - 9s/epoch - 5ms/step\n",
            "Epoch 5/15\n",
            "1719/1719 - 7s - loss: 0.0258 - accuracy: 0.9918 - val_loss: 0.0528 - val_accuracy: 0.9818 - 7s/epoch - 4ms/step\n",
            "Epoch 6/15\n",
            "1719/1719 - 8s - loss: 0.0243 - accuracy: 0.9922 - val_loss: 0.0669 - val_accuracy: 0.9760 - 8s/epoch - 4ms/step\n",
            "Epoch 7/15\n",
            "1719/1719 - 7s - loss: 0.0229 - accuracy: 0.9927 - val_loss: 0.0471 - val_accuracy: 0.9844 - 7s/epoch - 4ms/step\n",
            "Epoch 8/15\n",
            "1719/1719 - 8s - loss: 0.0211 - accuracy: 0.9934 - val_loss: 0.0715 - val_accuracy: 0.9734 - 8s/epoch - 5ms/step\n",
            "Epoch 9/15\n",
            "1719/1719 - 6s - loss: 0.0197 - accuracy: 0.9940 - val_loss: 0.0473 - val_accuracy: 0.9854 - 6s/epoch - 3ms/step\n",
            "Epoch 10/15\n",
            "1719/1719 - 8s - loss: 0.0192 - accuracy: 0.9940 - val_loss: 0.0469 - val_accuracy: 0.9854 - 8s/epoch - 5ms/step\n",
            "Epoch 11/15\n",
            "1719/1719 - 6s - loss: 0.0176 - accuracy: 0.9948 - val_loss: 0.0463 - val_accuracy: 0.9850 - 6s/epoch - 4ms/step\n",
            "Epoch 12/15\n",
            "1719/1719 - 7s - loss: 0.0167 - accuracy: 0.9950 - val_loss: 0.0593 - val_accuracy: 0.9800 - 7s/epoch - 4ms/step\n",
            "Epoch 13/15\n",
            "1719/1719 - 6s - loss: 0.0161 - accuracy: 0.9951 - val_loss: 0.0739 - val_accuracy: 0.9748 - 6s/epoch - 3ms/step\n",
            "Epoch 14/15\n",
            "1719/1719 - 8s - loss: 0.0148 - accuracy: 0.9960 - val_loss: 0.0485 - val_accuracy: 0.9852 - 8s/epoch - 4ms/step\n",
            "Epoch 15/15\n",
            "1719/1719 - 6s - loss: 0.0140 - accuracy: 0.9963 - val_loss: 0.0605 - val_accuracy: 0.9806 - 6s/epoch - 4ms/step\n",
            "Epoch 1/15\n",
            "1719/1719 - 8s - loss: 0.0133 - accuracy: 0.9962 - val_loss: 0.0525 - val_accuracy: 0.9826 - 8s/epoch - 4ms/step\n",
            "Epoch 2/15\n",
            "1719/1719 - 6s - loss: 0.0124 - accuracy: 0.9968 - val_loss: 0.0615 - val_accuracy: 0.9810 - 6s/epoch - 3ms/step\n",
            "Epoch 3/15\n",
            "1719/1719 - 7s - loss: 0.0114 - accuracy: 0.9970 - val_loss: 0.0502 - val_accuracy: 0.9848 - 7s/epoch - 4ms/step\n",
            "Epoch 4/15\n",
            "1719/1719 - 6s - loss: 0.0107 - accuracy: 0.9975 - val_loss: 0.0488 - val_accuracy: 0.9858 - 6s/epoch - 4ms/step\n",
            "Epoch 5/15\n",
            "1719/1719 - 8s - loss: 0.0097 - accuracy: 0.9979 - val_loss: 0.0540 - val_accuracy: 0.9840 - 8s/epoch - 4ms/step\n",
            "Epoch 6/15\n",
            "1719/1719 - 6s - loss: 0.0094 - accuracy: 0.9978 - val_loss: 0.0540 - val_accuracy: 0.9838 - 6s/epoch - 3ms/step\n",
            "Epoch 7/15\n",
            "1719/1719 - 7s - loss: 0.0085 - accuracy: 0.9982 - val_loss: 0.0501 - val_accuracy: 0.9858 - 7s/epoch - 4ms/step\n",
            "Epoch 8/15\n",
            "1719/1719 - 6s - loss: 0.0078 - accuracy: 0.9984 - val_loss: 0.0592 - val_accuracy: 0.9818 - 6s/epoch - 3ms/step\n",
            "Epoch 9/15\n",
            "1719/1719 - 7s - loss: 0.0074 - accuracy: 0.9986 - val_loss: 0.0491 - val_accuracy: 0.9858 - 7s/epoch - 4ms/step\n",
            "Epoch 10/15\n",
            "1719/1719 - 6s - loss: 0.0071 - accuracy: 0.9986 - val_loss: 0.0500 - val_accuracy: 0.9852 - 6s/epoch - 3ms/step\n",
            "Epoch 11/15\n",
            "1719/1719 - 7s - loss: 0.0063 - accuracy: 0.9991 - val_loss: 0.0516 - val_accuracy: 0.9850 - 7s/epoch - 4ms/step\n",
            "Epoch 12/15\n",
            "1719/1719 - 6s - loss: 0.0061 - accuracy: 0.9989 - val_loss: 0.0572 - val_accuracy: 0.9836 - 6s/epoch - 3ms/step\n",
            "Epoch 13/15\n",
            "1719/1719 - 7s - loss: 0.0058 - accuracy: 0.9991 - val_loss: 0.0754 - val_accuracy: 0.9784 - 7s/epoch - 4ms/step\n",
            "Epoch 14/15\n",
            "1719/1719 - 6s - loss: 0.0051 - accuracy: 0.9995 - val_loss: 0.0527 - val_accuracy: 0.9854 - 6s/epoch - 4ms/step\n",
            "Epoch 15/15\n",
            "1719/1719 - 6s - loss: 0.0049 - accuracy: 0.9994 - val_loss: 0.0597 - val_accuracy: 0.9830 - 6s/epoch - 4ms/step\n",
            "Epoch 1/15\n",
            "1719/1719 - 8s - loss: 0.0044 - accuracy: 0.9996 - val_loss: 0.0535 - val_accuracy: 0.9848 - 8s/epoch - 4ms/step\n",
            "Epoch 2/15\n",
            "1719/1719 - 6s - loss: 0.0043 - accuracy: 0.9995 - val_loss: 0.0682 - val_accuracy: 0.9806 - 6s/epoch - 4ms/step\n",
            "Epoch 3/15\n",
            "1719/1719 - 8s - loss: 0.0039 - accuracy: 0.9996 - val_loss: 0.0545 - val_accuracy: 0.9852 - 8s/epoch - 5ms/step\n",
            "Epoch 4/15\n",
            "1719/1719 - 6s - loss: 0.0036 - accuracy: 0.9996 - val_loss: 0.0539 - val_accuracy: 0.9864 - 6s/epoch - 4ms/step\n",
            "Epoch 5/15\n",
            "1719/1719 - 8s - loss: 0.0033 - accuracy: 0.9997 - val_loss: 0.0569 - val_accuracy: 0.9856 - 8s/epoch - 4ms/step\n",
            "Epoch 6/15\n",
            "1719/1719 - 6s - loss: 0.0031 - accuracy: 0.9997 - val_loss: 0.0565 - val_accuracy: 0.9850 - 6s/epoch - 3ms/step\n",
            "Epoch 7/15\n",
            "1719/1719 - 7s - loss: 0.0029 - accuracy: 0.9998 - val_loss: 0.0557 - val_accuracy: 0.9858 - 7s/epoch - 4ms/step\n",
            "Epoch 8/15\n",
            "1719/1719 - 6s - loss: 0.0026 - accuracy: 0.9999 - val_loss: 0.0577 - val_accuracy: 0.9846 - 6s/epoch - 3ms/step\n",
            "Epoch 9/15\n",
            "1719/1719 - 7s - loss: 0.0025 - accuracy: 0.9999 - val_loss: 0.0544 - val_accuracy: 0.9856 - 7s/epoch - 4ms/step\n",
            "Epoch 10/15\n",
            "1719/1719 - 6s - loss: 0.0023 - accuracy: 0.9999 - val_loss: 0.0551 - val_accuracy: 0.9862 - 6s/epoch - 4ms/step\n",
            "Epoch 11/15\n",
            "1719/1719 - 9s - loss: 0.0022 - accuracy: 1.0000 - val_loss: 0.0568 - val_accuracy: 0.9852 - 9s/epoch - 5ms/step\n",
            "Epoch 12/15\n",
            "1719/1719 - 6s - loss: 0.0022 - accuracy: 0.9999 - val_loss: 0.0586 - val_accuracy: 0.9852 - 6s/epoch - 4ms/step\n",
            "Epoch 13/15\n",
            "1719/1719 - 7s - loss: 0.0020 - accuracy: 1.0000 - val_loss: 0.0715 - val_accuracy: 0.9806 - 7s/epoch - 4ms/step\n",
            "Epoch 14/15\n",
            "1719/1719 - 6s - loss: 0.0019 - accuracy: 1.0000 - val_loss: 0.0570 - val_accuracy: 0.9856 - 6s/epoch - 4ms/step\n",
            "Epoch 15/15\n",
            "1719/1719 - 7s - loss: 0.0018 - accuracy: 0.9999 - val_loss: 0.0604 - val_accuracy: 0.9844 - 7s/epoch - 4ms/step\n",
            "Epoch 1/15\n",
            "1719/1719 - 6s - loss: 0.0017 - accuracy: 1.0000 - val_loss: 0.0578 - val_accuracy: 0.9852 - 6s/epoch - 4ms/step\n",
            "Epoch 2/15\n",
            "1719/1719 - 7s - loss: 0.0017 - accuracy: 1.0000 - val_loss: 0.0619 - val_accuracy: 0.9854 - 7s/epoch - 4ms/step\n",
            "Epoch 3/15\n",
            "1719/1719 - 6s - loss: 0.0016 - accuracy: 1.0000 - val_loss: 0.0584 - val_accuracy: 0.9856 - 6s/epoch - 4ms/step\n",
            "Epoch 4/15\n",
            "1719/1719 - 8s - loss: 0.0015 - accuracy: 1.0000 - val_loss: 0.0585 - val_accuracy: 0.9858 - 8s/epoch - 4ms/step\n",
            "Epoch 5/15\n",
            "1719/1719 - 6s - loss: 0.0015 - accuracy: 1.0000 - val_loss: 0.0594 - val_accuracy: 0.9858 - 6s/epoch - 4ms/step\n",
            "Epoch 6/15\n",
            "1719/1719 - 7s - loss: 0.0014 - accuracy: 1.0000 - val_loss: 0.0593 - val_accuracy: 0.9858 - 7s/epoch - 4ms/step\n",
            "Epoch 7/15\n",
            "1719/1719 - 6s - loss: 0.0013 - accuracy: 1.0000 - val_loss: 0.0596 - val_accuracy: 0.9860 - 6s/epoch - 4ms/step\n",
            "Epoch 8/15\n",
            "1719/1719 - 8s - loss: 0.0013 - accuracy: 1.0000 - val_loss: 0.0606 - val_accuracy: 0.9854 - 8s/epoch - 4ms/step\n",
            "Epoch 9/15\n",
            "1719/1719 - 6s - loss: 0.0012 - accuracy: 1.0000 - val_loss: 0.0585 - val_accuracy: 0.9858 - 6s/epoch - 4ms/step\n",
            "Epoch 10/15\n",
            "1719/1719 - 7s - loss: 0.0012 - accuracy: 1.0000 - val_loss: 0.0591 - val_accuracy: 0.9858 - 7s/epoch - 4ms/step\n",
            "Epoch 11/15\n",
            "1719/1719 - 6s - loss: 0.0012 - accuracy: 1.0000 - val_loss: 0.0597 - val_accuracy: 0.9852 - 6s/epoch - 4ms/step\n",
            "Epoch 12/15\n",
            "1719/1719 - 7s - loss: 0.0011 - accuracy: 1.0000 - val_loss: 0.0612 - val_accuracy: 0.9856 - 7s/epoch - 4ms/step\n",
            "Epoch 13/15\n",
            "1719/1719 - 6s - loss: 0.0011 - accuracy: 1.0000 - val_loss: 0.0652 - val_accuracy: 0.9846 - 6s/epoch - 3ms/step\n",
            "Epoch 14/15\n",
            "1719/1719 - 7s - loss: 0.0010 - accuracy: 1.0000 - val_loss: 0.0604 - val_accuracy: 0.9854 - 7s/epoch - 4ms/step\n",
            "Epoch 15/15\n",
            "1719/1719 - 6s - loss: 9.9559e-04 - accuracy: 1.0000 - val_loss: 0.0622 - val_accuracy: 0.9854 - 6s/epoch - 3ms/step\n",
            "Epoch 1/15\n",
            "1719/1719 - 7s - loss: 9.6738e-04 - accuracy: 1.0000 - val_loss: 0.0610 - val_accuracy: 0.9854 - 7s/epoch - 4ms/step\n",
            "Epoch 2/15\n",
            "1719/1719 - 6s - loss: 9.5137e-04 - accuracy: 1.0000 - val_loss: 0.0633 - val_accuracy: 0.9852 - 6s/epoch - 3ms/step\n",
            "Epoch 3/15\n",
            "1719/1719 - 7s - loss: 9.2168e-04 - accuracy: 1.0000 - val_loss: 0.0612 - val_accuracy: 0.9856 - 7s/epoch - 4ms/step\n",
            "Epoch 4/15\n",
            "1719/1719 - 6s - loss: 8.9068e-04 - accuracy: 1.0000 - val_loss: 0.0618 - val_accuracy: 0.9858 - 6s/epoch - 3ms/step\n",
            "Epoch 5/15\n",
            "1719/1719 - 7s - loss: 8.6912e-04 - accuracy: 1.0000 - val_loss: 0.0623 - val_accuracy: 0.9858 - 7s/epoch - 4ms/step\n",
            "Epoch 6/15\n",
            "1719/1719 - 6s - loss: 8.5119e-04 - accuracy: 1.0000 - val_loss: 0.0621 - val_accuracy: 0.9856 - 6s/epoch - 3ms/step\n",
            "Epoch 7/15\n",
            "1719/1719 - 7s - loss: 8.2307e-04 - accuracy: 1.0000 - val_loss: 0.0626 - val_accuracy: 0.9854 - 7s/epoch - 4ms/step\n",
            "Epoch 8/15\n",
            "1719/1719 - 6s - loss: 7.9507e-04 - accuracy: 1.0000 - val_loss: 0.0631 - val_accuracy: 0.9854 - 6s/epoch - 3ms/step\n",
            "Epoch 9/15\n",
            "1719/1719 - 7s - loss: 7.8183e-04 - accuracy: 1.0000 - val_loss: 0.0616 - val_accuracy: 0.9858 - 7s/epoch - 4ms/step\n",
            "Epoch 10/15\n",
            "1719/1719 - 6s - loss: 7.6215e-04 - accuracy: 1.0000 - val_loss: 0.0620 - val_accuracy: 0.9854 - 6s/epoch - 3ms/step\n",
            "Epoch 11/15\n",
            "1719/1719 - 7s - loss: 7.4692e-04 - accuracy: 1.0000 - val_loss: 0.0625 - val_accuracy: 0.9856 - 7s/epoch - 4ms/step\n",
            "Epoch 12/15\n",
            "1719/1719 - 6s - loss: 7.2840e-04 - accuracy: 1.0000 - val_loss: 0.0635 - val_accuracy: 0.9856 - 6s/epoch - 4ms/step\n",
            "Epoch 13/15\n",
            "1719/1719 - 8s - loss: 7.0302e-04 - accuracy: 1.0000 - val_loss: 0.0656 - val_accuracy: 0.9856 - 8s/epoch - 5ms/step\n",
            "Epoch 14/15\n",
            "1719/1719 - 6s - loss: 6.9238e-04 - accuracy: 1.0000 - val_loss: 0.0630 - val_accuracy: 0.9854 - 6s/epoch - 4ms/step\n",
            "Epoch 15/15\n",
            "1719/1719 - 8s - loss: 6.7147e-04 - accuracy: 1.0000 - val_loss: 0.0644 - val_accuracy: 0.9854 - 8s/epoch - 5ms/step\n",
            "Epoch 1/15\n",
            "1719/1719 - 6s - loss: 6.5855e-04 - accuracy: 1.0000 - val_loss: 0.0636 - val_accuracy: 0.9852 - 6s/epoch - 4ms/step\n",
            "Epoch 2/15\n",
            "1719/1719 - 8s - loss: 6.5050e-04 - accuracy: 1.0000 - val_loss: 0.0651 - val_accuracy: 0.9856 - 8s/epoch - 4ms/step\n",
            "Epoch 3/15\n",
            "1719/1719 - 6s - loss: 6.3532e-04 - accuracy: 1.0000 - val_loss: 0.0637 - val_accuracy: 0.9860 - 6s/epoch - 4ms/step\n",
            "Epoch 4/15\n",
            "1719/1719 - 7s - loss: 6.1870e-04 - accuracy: 1.0000 - val_loss: 0.0643 - val_accuracy: 0.9854 - 7s/epoch - 4ms/step\n",
            "Epoch 5/15\n",
            "1719/1719 - 7s - loss: 6.0549e-04 - accuracy: 1.0000 - val_loss: 0.0645 - val_accuracy: 0.9852 - 7s/epoch - 4ms/step\n",
            "Epoch 6/15\n",
            "1719/1719 - 7s - loss: 5.9662e-04 - accuracy: 1.0000 - val_loss: 0.0644 - val_accuracy: 0.9850 - 7s/epoch - 4ms/step\n",
            "Epoch 7/15\n",
            "1719/1719 - 7s - loss: 5.8228e-04 - accuracy: 1.0000 - val_loss: 0.0649 - val_accuracy: 0.9850 - 7s/epoch - 4ms/step\n",
            "Epoch 8/15\n",
            "1719/1719 - 7s - loss: 5.6786e-04 - accuracy: 1.0000 - val_loss: 0.0652 - val_accuracy: 0.9854 - 7s/epoch - 4ms/step\n",
            "Epoch 9/15\n",
            "1719/1719 - 8s - loss: 5.6060e-04 - accuracy: 1.0000 - val_loss: 0.0640 - val_accuracy: 0.9858 - 8s/epoch - 5ms/step\n",
            "Epoch 10/15\n",
            "1719/1719 - 6s - loss: 5.4980e-04 - accuracy: 1.0000 - val_loss: 0.0644 - val_accuracy: 0.9856 - 6s/epoch - 4ms/step\n",
            "Epoch 11/15\n",
            "1719/1719 - 8s - loss: 5.4075e-04 - accuracy: 1.0000 - val_loss: 0.0648 - val_accuracy: 0.9856 - 8s/epoch - 5ms/step\n",
            "Epoch 12/15\n",
            "1719/1719 - 6s - loss: 5.3031e-04 - accuracy: 1.0000 - val_loss: 0.0655 - val_accuracy: 0.9856 - 6s/epoch - 3ms/step\n",
            "Epoch 13/15\n",
            "1719/1719 - 8s - loss: 5.1577e-04 - accuracy: 1.0000 - val_loss: 0.0668 - val_accuracy: 0.9856 - 8s/epoch - 4ms/step\n",
            "Epoch 14/15\n",
            "1719/1719 - 6s - loss: 5.0945e-04 - accuracy: 1.0000 - val_loss: 0.0651 - val_accuracy: 0.9854 - 6s/epoch - 4ms/step\n",
            "Epoch 15/15\n",
            "1719/1719 - 8s - loss: 4.9757e-04 - accuracy: 1.0000 - val_loss: 0.0663 - val_accuracy: 0.9856 - 8s/epoch - 5ms/step\n",
            "Epoch 1/15\n",
            "1719/1719 - 6s - loss: 4.9012e-04 - accuracy: 1.0000 - val_loss: 0.0656 - val_accuracy: 0.9850 - 6s/epoch - 4ms/step\n",
            "Epoch 2/15\n",
            "1719/1719 - 7s - loss: 4.8545e-04 - accuracy: 1.0000 - val_loss: 0.0668 - val_accuracy: 0.9850 - 7s/epoch - 4ms/step\n",
            "Epoch 3/15\n",
            "1719/1719 - 6s - loss: 4.7653e-04 - accuracy: 1.0000 - val_loss: 0.0657 - val_accuracy: 0.9854 - 6s/epoch - 3ms/step\n",
            "Epoch 4/15\n",
            "1719/1719 - 7s - loss: 4.6623e-04 - accuracy: 1.0000 - val_loss: 0.0662 - val_accuracy: 0.9854 - 7s/epoch - 4ms/step\n",
            "Epoch 5/15\n",
            "1719/1719 - 6s - loss: 4.5768e-04 - accuracy: 1.0000 - val_loss: 0.0664 - val_accuracy: 0.9850 - 6s/epoch - 3ms/step\n",
            "Epoch 6/15\n",
            "1719/1719 - 6s - loss: 4.5242e-04 - accuracy: 1.0000 - val_loss: 0.0663 - val_accuracy: 0.9848 - 6s/epoch - 4ms/step\n",
            "Epoch 7/15\n",
            "1719/1719 - 7s - loss: 4.4387e-04 - accuracy: 1.0000 - val_loss: 0.0668 - val_accuracy: 0.9848 - 7s/epoch - 4ms/step\n",
            "Epoch 8/15\n",
            "1719/1719 - 6s - loss: 4.3510e-04 - accuracy: 1.0000 - val_loss: 0.0670 - val_accuracy: 0.9852 - 6s/epoch - 3ms/step\n",
            "Epoch 9/15\n",
            "1719/1719 - 7s - loss: 4.3061e-04 - accuracy: 1.0000 - val_loss: 0.0660 - val_accuracy: 0.9856 - 7s/epoch - 4ms/step\n",
            "Epoch 10/15\n",
            "1719/1719 - 6s - loss: 4.2389e-04 - accuracy: 1.0000 - val_loss: 0.0663 - val_accuracy: 0.9850 - 6s/epoch - 3ms/step\n",
            "Epoch 11/15\n",
            "1719/1719 - 7s - loss: 4.1811e-04 - accuracy: 1.0000 - val_loss: 0.0667 - val_accuracy: 0.9854 - 7s/epoch - 4ms/step\n",
            "Epoch 12/15\n",
            "1719/1719 - 6s - loss: 4.1137e-04 - accuracy: 1.0000 - val_loss: 0.0672 - val_accuracy: 0.9856 - 6s/epoch - 4ms/step\n",
            "Epoch 13/15\n",
            "1719/1719 - 7s - loss: 4.0206e-04 - accuracy: 1.0000 - val_loss: 0.0682 - val_accuracy: 0.9854 - 7s/epoch - 4ms/step\n",
            "Epoch 14/15\n",
            "1719/1719 - 6s - loss: 3.9799e-04 - accuracy: 1.0000 - val_loss: 0.0669 - val_accuracy: 0.9854 - 6s/epoch - 4ms/step\n",
            "Epoch 15/15\n",
            "1719/1719 - 8s - loss: 3.9044e-04 - accuracy: 1.0000 - val_loss: 0.0679 - val_accuracy: 0.9854 - 8s/epoch - 4ms/step\n",
            "2min 4s ± 20.7 s per loop (mean ± std. dev. of 7 runs, 1 loop each)\n"
          ]
        }
      ]
    },
    {
      "cell_type": "code",
      "source": [
        "# load model\n",
        "pretrained_model = tf.keras.models.load_model('mnist_model.h5')"
      ],
      "metadata": {
        "id": "9VD1LIId2AX4"
      },
      "execution_count": 15,
      "outputs": []
    },
    {
      "cell_type": "code",
      "source": [
        "pretrained_model.summary()"
      ],
      "metadata": {
        "colab": {
          "base_uri": "https://localhost:8080/"
        },
        "id": "F-apZ5UdFtDD",
        "outputId": "8f20d467-7ae7-48bf-ac13-7828af48cc3b"
      },
      "execution_count": 16,
      "outputs": [
        {
          "output_type": "stream",
          "name": "stdout",
          "text": [
            "Model: \"sequential\"\n",
            "_________________________________________________________________\n",
            " Layer (type)                Output Shape              Param #   \n",
            "=================================================================\n",
            " flatten (Flatten)           (None, 784)               0         \n",
            "                                                                 \n",
            " dense (Dense)               (None, 300)               235500    \n",
            "                                                                 \n",
            " leaky_re_lu (LeakyReLU)     (None, 300)               0         \n",
            "                                                                 \n",
            " dense_1 (Dense)             (None, 100)               30100     \n",
            "                                                                 \n",
            " dense_2 (Dense)             (None, 10)                1010      \n",
            "                                                                 \n",
            "=================================================================\n",
            "Total params: 266610 (1.02 MB)\n",
            "Trainable params: 266610 (1.02 MB)\n",
            "Non-trainable params: 0 (0.00 Byte)\n",
            "_________________________________________________________________\n"
          ]
        }
      ]
    },
    {
      "cell_type": "code",
      "source": [
        "# check trainable or not\n",
        "for layer in pretrained_model.layers:\n",
        "    print(layer.name, layer.trainable)"
      ],
      "metadata": {
        "colab": {
          "base_uri": "https://localhost:8080/"
        },
        "id": "1LRIyG_dFzB0",
        "outputId": "d6b62f55-45c3-4cfa-e4c1-f0215ec7a00e"
      },
      "execution_count": 17,
      "outputs": [
        {
          "output_type": "stream",
          "name": "stdout",
          "text": [
            "flatten True\n",
            "dense True\n",
            "leaky_re_lu True\n",
            "dense_1 True\n",
            "dense_2 True\n"
          ]
        }
      ]
    },
    {
      "cell_type": "code",
      "source": [
        "# make non trainable except last layer\n",
        "for layer in pretrained_model.layers[:-1]:\n",
        "    layer.trainable = False\n",
        "    print(layer.name, layer.trainable)"
      ],
      "metadata": {
        "colab": {
          "base_uri": "https://localhost:8080/"
        },
        "id": "THi4VmNDGBFS",
        "outputId": "487da3b0-f3d7-4372-db68-69a688f1782b"
      },
      "execution_count": 18,
      "outputs": [
        {
          "output_type": "stream",
          "name": "stdout",
          "text": [
            "flatten False\n",
            "dense False\n",
            "leaky_re_lu False\n",
            "dense_1 False\n"
          ]
        }
      ]
    },
    {
      "cell_type": "code",
      "source": [
        "# load non trainable layer to new model\n",
        "lower_pretrained_layers = pretrained_model.layers[:-1]\n",
        "\n",
        "new_model = tf.keras.models.Sequential(lower_pretrained_layers)\n",
        "new_model.add(tf.keras.layers.Dense(2, activation='softmax'))"
      ],
      "metadata": {
        "id": "t0KiB1K1GiMa"
      },
      "execution_count": 19,
      "outputs": []
    },
    {
      "cell_type": "code",
      "source": [
        "new_model.summary()"
      ],
      "metadata": {
        "colab": {
          "base_uri": "https://localhost:8080/"
        },
        "id": "Tfk8u_iwHK2N",
        "outputId": "70283f8d-663f-4876-e186-82da0b064007"
      },
      "execution_count": 20,
      "outputs": [
        {
          "output_type": "stream",
          "name": "stdout",
          "text": [
            "Model: \"sequential_2\"\n",
            "_________________________________________________________________\n",
            " Layer (type)                Output Shape              Param #   \n",
            "=================================================================\n",
            " flatten (Flatten)           (None, 784)               0         \n",
            "                                                                 \n",
            " dense (Dense)               (None, 300)               235500    \n",
            "                                                                 \n",
            " leaky_re_lu (LeakyReLU)     (None, 300)               0         \n",
            "                                                                 \n",
            " dense_1 (Dense)             (None, 100)               30100     \n",
            "                                                                 \n",
            " dense_6 (Dense)             (None, 2)                 202       \n",
            "                                                                 \n",
            "=================================================================\n",
            "Total params: 265802 (1.01 MB)\n",
            "Trainable params: 202 (808.00 Byte)\n",
            "Non-trainable params: 265600 (1.01 MB)\n",
            "_________________________________________________________________\n"
          ]
        }
      ]
    },
    {
      "cell_type": "code",
      "source": [
        "new_model.compile(loss='sparse_categorical_crossentropy',\n",
        "                optimizer = tf.keras.optimizers.SGD(lr=1e-3),\n",
        "                metrics=['accuracy'])"
      ],
      "metadata": {
        "colab": {
          "base_uri": "https://localhost:8080/"
        },
        "id": "SzylMXThHMty",
        "outputId": "c628f0e4-e1f1-4b43-c9bb-f434177f5af9"
      },
      "execution_count": 21,
      "outputs": [
        {
          "output_type": "stream",
          "name": "stderr",
          "text": [
            "WARNING:absl:`lr` is deprecated in Keras optimizer, please use `learning_rate` or use the legacy optimizer, e.g.,tf.keras.optimizers.legacy.SGD.\n"
          ]
        }
      ]
    },
    {
      "cell_type": "code",
      "source": [
        "%%time\n",
        "# train model with non trainable layers\n",
        "history = new_model.fit(x_train, y_train_bin, epochs = 15,\n",
        "                      validation_data=(x_valid, y_valid_bin), verbose=2)"
      ],
      "metadata": {
        "colab": {
          "base_uri": "https://localhost:8080/"
        },
        "id": "ABbVJOMPHlsy",
        "outputId": "a9e099e3-0092-4e6c-d5ce-02d4d8d04ab6"
      },
      "execution_count": 23,
      "outputs": [
        {
          "output_type": "stream",
          "name": "stdout",
          "text": [
            "Epoch 1/15\n",
            "1719/1719 - 5s - loss: 0.3088 - accuracy: 0.8720 - val_loss: 0.2618 - val_accuracy: 0.8958 - 5s/epoch - 3ms/step\n",
            "Epoch 2/15\n",
            "1719/1719 - 5s - loss: 0.2733 - accuracy: 0.8913 - val_loss: 0.2447 - val_accuracy: 0.9036 - 5s/epoch - 3ms/step\n",
            "Epoch 3/15\n",
            "1719/1719 - 4s - loss: 0.2619 - accuracy: 0.8975 - val_loss: 0.2384 - val_accuracy: 0.9068 - 4s/epoch - 2ms/step\n",
            "Epoch 4/15\n",
            "1719/1719 - 4s - loss: 0.2556 - accuracy: 0.8998 - val_loss: 0.2337 - val_accuracy: 0.9102 - 4s/epoch - 2ms/step\n",
            "Epoch 5/15\n",
            "1719/1719 - 5s - loss: 0.2508 - accuracy: 0.9029 - val_loss: 0.2289 - val_accuracy: 0.9128 - 5s/epoch - 3ms/step\n",
            "Epoch 6/15\n",
            "1719/1719 - 4s - loss: 0.2478 - accuracy: 0.9040 - val_loss: 0.2257 - val_accuracy: 0.9132 - 4s/epoch - 2ms/step\n",
            "Epoch 7/15\n",
            "1719/1719 - 4s - loss: 0.2446 - accuracy: 0.9057 - val_loss: 0.2252 - val_accuracy: 0.9126 - 4s/epoch - 2ms/step\n",
            "Epoch 8/15\n",
            "1719/1719 - 5s - loss: 0.2425 - accuracy: 0.9073 - val_loss: 0.2257 - val_accuracy: 0.9120 - 5s/epoch - 3ms/step\n",
            "Epoch 9/15\n",
            "1719/1719 - 4s - loss: 0.2404 - accuracy: 0.9079 - val_loss: 0.2217 - val_accuracy: 0.9172 - 4s/epoch - 2ms/step\n",
            "Epoch 10/15\n",
            "1719/1719 - 4s - loss: 0.2389 - accuracy: 0.9089 - val_loss: 0.2259 - val_accuracy: 0.9120 - 4s/epoch - 2ms/step\n",
            "Epoch 11/15\n",
            "1719/1719 - 5s - loss: 0.2376 - accuracy: 0.9091 - val_loss: 0.2178 - val_accuracy: 0.9168 - 5s/epoch - 3ms/step\n",
            "Epoch 12/15\n",
            "1719/1719 - 4s - loss: 0.2365 - accuracy: 0.9099 - val_loss: 0.2153 - val_accuracy: 0.9212 - 4s/epoch - 2ms/step\n",
            "Epoch 13/15\n",
            "1719/1719 - 4s - loss: 0.2351 - accuracy: 0.9108 - val_loss: 0.2144 - val_accuracy: 0.9192 - 4s/epoch - 2ms/step\n",
            "Epoch 14/15\n",
            "1719/1719 - 5s - loss: 0.2344 - accuracy: 0.9106 - val_loss: 0.2158 - val_accuracy: 0.9204 - 5s/epoch - 3ms/step\n",
            "Epoch 15/15\n",
            "1719/1719 - 4s - loss: 0.2333 - accuracy: 0.9118 - val_loss: 0.2127 - val_accuracy: 0.9202 - 4s/epoch - 2ms/step\n",
            "CPU times: user 1min 16s, sys: 3.73 s, total: 1min 20s\n",
            "Wall time: 1min 22s\n"
          ]
        }
      ]
    },
    {
      "cell_type": "code",
      "source": [],
      "metadata": {
        "id": "eJ9ZAYQxkKhY"
      },
      "execution_count": null,
      "outputs": []
    }
  ]
}